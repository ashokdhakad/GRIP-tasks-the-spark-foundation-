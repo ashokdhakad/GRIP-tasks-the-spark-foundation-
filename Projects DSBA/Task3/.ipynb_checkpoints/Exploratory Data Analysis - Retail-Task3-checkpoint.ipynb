{
 "cells": [
  {
   "cell_type": "markdown",
   "metadata": {},
   "source": [
    "# Name: Ashok Vaktariya\n",
    "\n",
    "GitHub: https://github.com/ashokdhakad\n",
    "\n",
    "Kaggle: https://www.kaggle.com/ashokvaktariya\n",
    "\n",
    "My Portfolio Site: https://ashokvaktariya.me/\n"
   ]
  },
  {
   "cell_type": "markdown",
   "metadata": {},
   "source": [
    "# The Sparks Foundation\n",
    "\n",
    "# GRIP: Data Science & Business Analytics\n",
    "\n",
    "# Exploratory Data Analysis - Retail\n",
    "\n",
    "# Task 3\n",
    "\n",
    "# Objective: \n",
    "\n",
    "**Analyse the Business and Resolve Business Problems**\n",
    "\n",
    "# Goal:\n",
    "\n",
    "**To arrive to a business solution to ensure the company earns maximum profits from all the branches in every state**\n",
    "\n",
    "### Let's understand the business problem statement:\n",
    ">\n",
    ">The company has many branches in many states all over the US. The company deals into retailing many different items in the category of Office Supplies, Furniture and Technology catering to the needs in Consumer, Corporate and Home Office segments.\n",
    ">\n",
    ">  * we have to analyse the retail sale to find how each states are performing, \n",
    ">  * to find out the weak areas where it can be work out to make more profit \n",
    ">  and \n",
    ">  * if there are any business problems in any states we have to do analysis on the same to find a business solution.\n"
   ]
  },
  {
   "cell_type": "markdown",
   "metadata": {},
   "source": [
    "### Importing Libraries"
   ]
  },
  {
   "cell_type": "code",
   "execution_count": 2,
   "metadata": {
    "ExecuteTime": {
     "end_time": "2020-12-17T09:47:21.598627Z",
     "start_time": "2020-12-17T09:47:05.218283Z"
    }
   },
   "outputs": [],
   "source": [
    "import numpy as np\n",
    "import pandas as pd"
   ]
  },
  {
   "cell_type": "markdown",
   "metadata": {},
   "source": [
    "### Importing libraries for visualization"
   ]
  },
  {
   "cell_type": "code",
   "execution_count": 3,
   "metadata": {
    "ExecuteTime": {
     "end_time": "2020-12-17T09:48:19.942445Z",
     "start_time": "2020-12-17T09:48:00.757579Z"
    }
   },
   "outputs": [],
   "source": [
    "import matplotlib.pyplot as plt\n",
    "import seaborn as sns\n",
    "%matplotlib inline\n",
    "plt.style.use('fivethirtyeight')"
   ]
  },
  {
   "cell_type": "markdown",
   "metadata": {},
   "source": [
    "### Ignoring the warnings"
   ]
  },
  {
   "cell_type": "code",
   "execution_count": 4,
   "metadata": {
    "ExecuteTime": {
     "end_time": "2020-12-17T09:49:09.623224Z",
     "start_time": "2020-12-17T09:49:09.618231Z"
    }
   },
   "outputs": [],
   "source": [
    "import warnings\n",
    "warnings.filterwarnings('ignore')"
   ]
  },
  {
   "cell_type": "markdown",
   "metadata": {},
   "source": [
    "### Reading the dataset"
   ]
  },
  {
   "cell_type": "code",
   "execution_count": null,
   "metadata": {},
   "outputs": [],
   "source": [
    "dataset=pd.read_csv('SampleSuperstore.csv')"
   ]
  }
 ],
 "metadata": {
  "kernelspec": {
   "display_name": "Python 3",
   "language": "python",
   "name": "python3"
  },
  "language_info": {
   "codemirror_mode": {
    "name": "ipython",
    "version": 3
   },
   "file_extension": ".py",
   "mimetype": "text/x-python",
   "name": "python",
   "nbconvert_exporter": "python",
   "pygments_lexer": "ipython3",
   "version": "3.7.3"
  }
 },
 "nbformat": 4,
 "nbformat_minor": 2
}
