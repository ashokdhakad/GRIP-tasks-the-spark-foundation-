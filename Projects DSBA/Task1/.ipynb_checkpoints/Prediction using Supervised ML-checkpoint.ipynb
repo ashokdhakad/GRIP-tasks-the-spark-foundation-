{
 "cells": [
  {
   "cell_type": "markdown",
   "metadata": {},
   "source": [
    "# Name: Ashok Vaktariya\n",
    "\n",
    "GitHub: https://github.com/ashokdhakad\n",
    "\n",
    "Kaggle: https://www.kaggle.com/ashokvaktariya\n",
    "\n",
    "My Portfolio Site: https://ashokvaktariya.me/\n"
   ]
  },
  {
   "cell_type": "markdown",
   "metadata": {},
   "source": [
    "# The Sparks Foundation\n",
    "# GRIP: Data Science & Business Analytics Intern\n",
    "# Prediction using Supervised ML \n",
    "# Task 1\n",
    "\n",
    "# Simple Linear Regression\n",
    "\n",
    "This is a simple linear regression task and the dataset has just two variables.\n",
    "\n",
    "Goal: Predict the percentage of marks a student can score based on the number of hours he dedicates on his studies.\n",
    "\n"
   ]
  },
  {
   "cell_type": "markdown",
   "metadata": {},
   "source": [
    "### importing Libraries"
   ]
  },
  {
   "cell_type": "code",
   "execution_count": 1,
   "metadata": {
    "ExecuteTime": {
     "end_time": "2020-12-05T08:22:01.785170Z",
     "start_time": "2020-12-05T08:21:32.021301Z"
    }
   },
   "outputs": [],
   "source": [
    "import pandas as pd\n",
    "import numpy as np\n",
    "import matplotlib.pyplot as plt\n",
    "import seaborn as sns\n",
    "%matplotlib inline"
   ]
  },
  {
   "cell_type": "markdown",
   "metadata": {},
   "source": [
    "### reading csv file and assigning to dataset variables"
   ]
  },
  {
   "cell_type": "code",
   "execution_count": 3,
   "metadata": {
    "ExecuteTime": {
     "end_time": "2020-12-05T09:21:42.376506Z",
     "start_time": "2020-12-05T09:21:41.540864Z"
    }
   },
   "outputs": [],
   "source": [
    "dataset = pd.read_csv('https://raw.githubusercontent.com/AdiPersonalWorks/Random/master/student_scores%20-%20student_scores.csv')"
   ]
  },
  {
   "cell_type": "markdown",
   "metadata": {},
   "source": [
    "### getting the overview of all the columns in the dataset."
   ]
  },
  {
   "cell_type": "code",
   "execution_count": null,
   "metadata": {},
   "outputs": [],
   "source": []
  },
  {
   "cell_type": "code",
   "execution_count": null,
   "metadata": {},
   "outputs": [],
   "source": []
  }
 ],
 "metadata": {
  "kernelspec": {
   "display_name": "Python 3",
   "language": "python",
   "name": "python3"
  },
  "language_info": {
   "codemirror_mode": {
    "name": "ipython",
    "version": 3
   },
   "file_extension": ".py",
   "mimetype": "text/x-python",
   "name": "python",
   "nbconvert_exporter": "python",
   "pygments_lexer": "ipython3",
   "version": "3.7.3"
  }
 },
 "nbformat": 4,
 "nbformat_minor": 2
}
