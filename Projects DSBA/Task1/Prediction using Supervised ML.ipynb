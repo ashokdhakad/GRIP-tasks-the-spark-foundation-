{
 "cells": [
  {
   "cell_type": "markdown",
   "metadata": {},
   "source": [
    "# Name: Ashok Vaktariya\n",
    "\n",
    "GitHub: https://github.com/ashokdhakad\n",
    "\n",
    "Kaggle: https://www.kaggle.com/ashokvaktariya\n",
    "\n",
    "My Portfolio Site: https://ashokvaktariya.me/\n"
   ]
  },
  {
   "cell_type": "markdown",
   "metadata": {},
   "source": [
    "# The Sparks Foundation\n",
    "# GRIP: Data Science & Business Analytics Intern\n",
    "# Prediction using Supervised ML \n",
    "# Task 1\n",
    "\n",
    "# Simple Linear Regression\n",
    "\n",
    "This is a simple linear regression task and the dataset has just two variables.\n",
    "\n",
    "Goal: Predict the percentage of marks a student can score based on the number of hours he dedicates on his studies.\n",
    "\n"
   ]
  },
  {
   "cell_type": "markdown",
   "metadata": {},
   "source": [
    "### importing Libraries"
   ]
  },
  {
   "cell_type": "code",
   "execution_count": 1,
   "metadata": {
    "ExecuteTime": {
     "end_time": "2020-12-05T08:22:01.785170Z",
     "start_time": "2020-12-05T08:21:32.021301Z"
    }
   },
   "outputs": [],
   "source": [
    "import pandas as pd\n",
    "import numpy as np\n",
    "import matplotlib.pyplot as plt\n",
    "import seaborn as sns\n",
    "%matplotlib inline"
   ]
  },
  {
   "cell_type": "markdown",
   "metadata": {},
   "source": [
    "### reading csv file and assigning to dataset variables"
   ]
  },
  {
   "cell_type": "code",
   "execution_count": 3,
   "metadata": {
    "ExecuteTime": {
     "end_time": "2020-12-05T09:21:42.376506Z",
     "start_time": "2020-12-05T09:21:41.540864Z"
    }
   },
   "outputs": [],
   "source": [
    "dataset = pd.read_csv('https://raw.githubusercontent.com/AdiPersonalWorks/Random/master/student_scores%20-%20student_scores.csv')"
   ]
  },
  {
   "cell_type": "markdown",
   "metadata": {},
   "source": [
    "### getting the overview of all the columns in the dataset."
   ]
  },
  {
   "cell_type": "code",
   "execution_count": 4,
   "metadata": {
    "ExecuteTime": {
     "end_time": "2020-12-05T09:22:14.832293Z",
     "start_time": "2020-12-05T09:22:14.825296Z"
    }
   },
   "outputs": [
    {
     "data": {
      "text/plain": [
       "Index(['Hours', 'Scores'], dtype='object')"
      ]
     },
     "execution_count": 4,
     "metadata": {},
     "output_type": "execute_result"
    }
   ],
   "source": [
    "dataset.columns"
   ]
  },
  {
   "cell_type": "markdown",
   "metadata": {},
   "source": [
    "#### Let us rename the column names as per the Python Naming convention,for better readability and understanding.\n",
    "#### Through this is not mandatory but it is good practice to follow."
   ]
  },
  {
   "cell_type": "code",
   "execution_count": 5,
   "metadata": {
    "ExecuteTime": {
     "end_time": "2020-12-05T09:27:32.660204Z",
     "start_time": "2020-12-05T09:27:32.655209Z"
    }
   },
   "outputs": [],
   "source": [
    "dataset.rename(columns={'Hours':'study_hours','Scores':'percentage_scores'},inplace=True)"
   ]
  },
  {
   "cell_type": "markdown",
   "metadata": {},
   "source": [
    "### getting brief overview of the dataset\n",
    "##### -number of columns and rows (shape of dataset)\n",
    "##### -columns names and its dtype\n",
    "##### -how many non-null values it has and memory usage."
   ]
  },
  {
   "cell_type": "code",
   "execution_count": 6,
   "metadata": {
    "ExecuteTime": {
     "end_time": "2020-12-05T09:31:23.079138Z",
     "start_time": "2020-12-05T09:31:22.881278Z"
    }
   },
   "outputs": [
    {
     "name": "stdout",
     "output_type": "stream",
     "text": [
      "<class 'pandas.core.frame.DataFrame'>\n",
      "RangeIndex: 25 entries, 0 to 24\n",
      "Data columns (total 2 columns):\n",
      "study_hours          25 non-null float64\n",
      "percentage_scores    25 non-null int64\n",
      "dtypes: float64(1), int64(1)\n",
      "memory usage: 480.0 bytes\n"
     ]
    }
   ],
   "source": [
    "dataset.info()"
   ]
  },
  {
   "cell_type": "markdown",
   "metadata": {},
   "source": [
    "##### converting percentage_scores column dtype to float32 as percentage_scores can be in decimal \n",
    "##### and also chances are there our LinearRegression model may predict percentage_scores in decimal\n",
    "##### Also reducing study_hours dtype from float64 to float32 as max study_hours will have only 2 decimals for minutes, say 1.59 - one hour 59 minutes\n"
   ]
  },
  {
   "cell_type": "code",
   "execution_count": 7,
   "metadata": {
    "ExecuteTime": {
     "end_time": "2020-12-05T09:54:41.810384Z",
     "start_time": "2020-12-05T09:54:41.793392Z"
    }
   },
   "outputs": [],
   "source": [
    "dataset['study_hours'] = dataset['study_hours'].astype('float32')\n",
    "dataset['percentage_scores'] = dataset['percentage_scores'].astype('float32')"
   ]
  },
  {
   "cell_type": "markdown",
   "metadata": {},
   "source": [
    "#### checking the columns dtype"
   ]
  },
  {
   "cell_type": "code",
   "execution_count": 8,
   "metadata": {
    "ExecuteTime": {
     "end_time": "2020-12-05T09:55:06.151103Z",
     "start_time": "2020-12-05T09:55:06.140109Z"
    }
   },
   "outputs": [
    {
     "name": "stdout",
     "output_type": "stream",
     "text": [
      "<class 'pandas.core.frame.DataFrame'>\n",
      "RangeIndex: 25 entries, 0 to 24\n",
      "Data columns (total 2 columns):\n",
      "study_hours          25 non-null float32\n",
      "percentage_scores    25 non-null float32\n",
      "dtypes: float32(2)\n",
      "memory usage: 280.0 bytes\n"
     ]
    }
   ],
   "source": [
    "dataset.info()"
   ]
  },
  {
   "cell_type": "markdown",
   "metadata": {},
   "source": [
    "#### first 5 rows content of the dataset"
   ]
  },
  {
   "cell_type": "code",
   "execution_count": 9,
   "metadata": {
    "ExecuteTime": {
     "end_time": "2020-12-05T09:55:45.123411Z",
     "start_time": "2020-12-05T09:55:45.037454Z"
    }
   },
   "outputs": [
    {
     "data": {
      "text/html": [
       "<div>\n",
       "<style scoped>\n",
       "    .dataframe tbody tr th:only-of-type {\n",
       "        vertical-align: middle;\n",
       "    }\n",
       "\n",
       "    .dataframe tbody tr th {\n",
       "        vertical-align: top;\n",
       "    }\n",
       "\n",
       "    .dataframe thead th {\n",
       "        text-align: right;\n",
       "    }\n",
       "</style>\n",
       "<table border=\"1\" class=\"dataframe\">\n",
       "  <thead>\n",
       "    <tr style=\"text-align: right;\">\n",
       "      <th></th>\n",
       "      <th>study_hours</th>\n",
       "      <th>percentage_scores</th>\n",
       "    </tr>\n",
       "  </thead>\n",
       "  <tbody>\n",
       "    <tr>\n",
       "      <th>0</th>\n",
       "      <td>2.5</td>\n",
       "      <td>21.0</td>\n",
       "    </tr>\n",
       "    <tr>\n",
       "      <th>1</th>\n",
       "      <td>5.1</td>\n",
       "      <td>47.0</td>\n",
       "    </tr>\n",
       "    <tr>\n",
       "      <th>2</th>\n",
       "      <td>3.2</td>\n",
       "      <td>27.0</td>\n",
       "    </tr>\n",
       "    <tr>\n",
       "      <th>3</th>\n",
       "      <td>8.5</td>\n",
       "      <td>75.0</td>\n",
       "    </tr>\n",
       "    <tr>\n",
       "      <th>4</th>\n",
       "      <td>3.5</td>\n",
       "      <td>30.0</td>\n",
       "    </tr>\n",
       "  </tbody>\n",
       "</table>\n",
       "</div>"
      ],
      "text/plain": [
       "   study_hours  percentage_scores\n",
       "0          2.5               21.0\n",
       "1          5.1               47.0\n",
       "2          3.2               27.0\n",
       "3          8.5               75.0\n",
       "4          3.5               30.0"
      ]
     },
     "execution_count": 9,
     "metadata": {},
     "output_type": "execute_result"
    }
   ],
   "source": [
    "dataset.head()"
   ]
  },
  {
   "cell_type": "markdown",
   "metadata": {},
   "source": [
    "#### shape of dataset"
   ]
  },
  {
   "cell_type": "code",
   "execution_count": 10,
   "metadata": {
    "ExecuteTime": {
     "end_time": "2020-12-05T09:56:06.038680Z",
     "start_time": "2020-12-05T09:56:06.030684Z"
    }
   },
   "outputs": [
    {
     "data": {
      "text/plain": [
       "(25, 2)"
      ]
     },
     "execution_count": 10,
     "metadata": {},
     "output_type": "execute_result"
    }
   ],
   "source": [
    "dataset.shape"
   ]
  },
  {
   "cell_type": "markdown",
   "metadata": {
    "ExecuteTime": {
     "end_time": "2020-12-05T09:56:39.234977Z",
     "start_time": "2020-12-05T09:56:39.226982Z"
    }
   },
   "source": [
    "it is very small dataset. and there are no missing value. And both columns values are numeric."
   ]
  },
  {
   "cell_type": "markdown",
   "metadata": {},
   "source": [
    "#### plotting the relationship between percentage_scores and study_hours"
   ]
  },
  {
   "cell_type": "code",
   "execution_count": 13,
   "metadata": {
    "ExecuteTime": {
     "end_time": "2020-12-05T09:59:23.449717Z",
     "start_time": "2020-12-05T09:59:23.113908Z"
    }
   },
   "outputs": [
    {
     "data": {
      "image/png": "[encoded data removed]",
      "text/plain": [
       "<Figure size 432x288 with 1 Axes>"
      ]
     },
     "metadata": {},
     "output_type": "display_data"
    }
   ],
   "source": [
    "sns.set(style='darkgrid')\n",
    "sns.scatterplot(x='study_hours',y = 'percentage_scores',data=dataset)\n",
    "plt.show()"
   ]
  },
  {
   "cell_type": "markdown",
   "metadata": {},
   "source": [
    "As seen in above scatter plot that student who study for less hours scores less whereas student who study for more hours scores more. Basically the percentage of scores is more or less same as the number of hours input in study. Thus there is a positive linear correlation between the hours of study and percentage of scores.\n",
    "\n"
   ]
  },
  {
   "cell_type": "markdown",
   "metadata": {},
   "source": [
    "## Preparing the data for model training and evaluation"
   ]
  },
  {
   "cell_type": "markdown",
   "metadata": {},
   "source": [
    "### importing the libraries"
   ]
  },
  {
   "cell_type": "code",
   "execution_count": 14,
   "metadata": {
    "ExecuteTime": {
     "end_time": "2020-12-05T10:00:18.620553Z",
     "start_time": "2020-12-05T10:00:14.194211Z"
    }
   },
   "outputs": [],
   "source": [
    "from sklearn.model_selection import train_test_split\n",
    "from sklearn.linear_model import LinearRegression\n",
    "from sklearn.tree import DecisionTreeRegressor\n",
    "from sklearn.metrics import mean_absolute_error\n",
    "from sklearn.metrics import mean_squared_error\n",
    "from sklearn.metrics import r2_score"
   ]
  },
  {
   "cell_type": "markdown",
   "metadata": {},
   "source": [
    "### initializing the X (independent variables / study_hours) and y (dependent variable / percentage_scores)\n"
   ]
  },
  {
   "cell_type": "code",
   "execution_count": 15,
   "metadata": {
    "ExecuteTime": {
     "end_time": "2020-12-05T10:00:59.149935Z",
     "start_time": "2020-12-05T10:00:59.142938Z"
    }
   },
   "outputs": [],
   "source": [
    "X = dataset.drop('percentage_scores', axis = 1)\n",
    "y = dataset['percentage_scores']"
   ]
  },
  {
   "cell_type": "markdown",
   "metadata": {},
   "source": [
    "### splitting X and y into X_train, X_test, y_train, y_test"
   ]
  },
  {
   "cell_type": "code",
   "execution_count": 16,
   "metadata": {
    "ExecuteTime": {
     "end_time": "2020-12-05T10:01:24.706796Z",
     "start_time": "2020-12-05T10:01:24.588579Z"
    }
   },
   "outputs": [],
   "source": [
    "X_train, X_test, y_train, y_test = train_test_split(X, y, test_size=0.20, random_state=42)"
   ]
  },
  {
   "cell_type": "markdown",
   "metadata": {},
   "source": [
    "### finding the shape of X_train, X_test, y_train, y_test\n"
   ]
  },
  {
   "cell_type": "code",
   "execution_count": 17,
   "metadata": {
    "ExecuteTime": {
     "end_time": "2020-12-05T10:02:02.082616Z",
     "start_time": "2020-12-05T10:02:02.075619Z"
    }
   },
   "outputs": [
    {
     "data": {
      "text/plain": [
       "((20, 1), (5, 1), (20,), (5,))"
      ]
     },
     "execution_count": 17,
     "metadata": {},
     "output_type": "execute_result"
    }
   ],
   "source": [
    "X_train.shape, X_test.shape, y_train.shape, y_test.shape"
   ]
  },
  {
   "cell_type": "markdown",
   "metadata": {},
   "source": [
    "### creating object of our LinearRegression model\n"
   ]
  },
  {
   "cell_type": "code",
   "execution_count": 18,
   "metadata": {
    "ExecuteTime": {
     "end_time": "2020-12-05T10:02:29.409190Z",
     "start_time": "2020-12-05T10:02:29.403198Z"
    }
   },
   "outputs": [],
   "source": [
    "model = LinearRegression()"
   ]
  },
  {
   "cell_type": "markdown",
   "metadata": {},
   "source": [
    "### training our LinearRegression model\n"
   ]
  },
  {
   "cell_type": "code",
   "execution_count": 19,
   "metadata": {
    "ExecuteTime": {
     "end_time": "2020-12-05T10:02:58.506864Z",
     "start_time": "2020-12-05T10:02:58.233298Z"
    }
   },
   "outputs": [
    {
     "data": {
      "text/plain": [
       "LinearRegression(copy_X=True, fit_intercept=True, n_jobs=None, normalize=False)"
      ]
     },
     "execution_count": 19,
     "metadata": {},
     "output_type": "execute_result"
    }
   ],
   "source": [
    "model.fit(X_train, y_train)"
   ]
  },
  {
   "cell_type": "code",
   "execution_count": 20,
   "metadata": {
    "ExecuteTime": {
     "end_time": "2020-12-05T10:03:31.074137Z",
     "start_time": "2020-12-05T10:03:28.916226Z"
    }
   },
   "outputs": [
    {
     "data": {
      "image/png": "[encoded data removed]",
      "text/plain": [
       "<Figure size 1008x720 with 4 Axes>"
      ]
     },
     "metadata": {},
     "output_type": "display_data"
    }
   ],
   "source": [
    "fig, ax = plt.subplots(nrows = 2, ncols = 2, figsize = (14,10))\n",
    "fig.tight_layout(pad=6.0)\n",
    "\n",
    "#the regression line produced when the Linear Regression model got trained\n",
    "line = model.coef_*X_train + model.intercept_   #y=mx+b\n",
    "\n",
    "\n",
    "ax[0, 0].set_title('This is how the Linear Regression model got trained \\n the linear regression line represented by the formula y=mx+b \\n'\n",
    "'whereby x is the single input for prediction of single output y, \\n m is the slope of the line (coefficient), and b is the y intercept')\n",
    "ax[0, 0].plot(X_train, line)\n",
    "\n",
    "ax[0, 1].set_title('The best fitted linear regression line our model has found \\n with respect to X_train and y_train values on which it got trained \\n'\n",
    "'The line represents the closest relation between the line itself and  \\n'\n",
    "'any given different points by minimizing the squared distances \\n '\n",
    "'(error/vertical distances) from this given different points \\n'\n",
    "'(X_train, y_train) to the line')\n",
    "ax[0, 1].scatter(X_train, y_train)            \n",
    "ax[0, 1].plot(X_train, line)\n",
    "\n",
    "ax[1, 0].set_title('The best fitted linear regression line of our model \\n'\n",
    "'and the X_test and y_test values point \\n'\n",
    "'depicting what the actual test values are \\n'\n",
    "'and what are model will be predicitng')\n",
    "ax[1, 0].scatter(X_test, y_test)            \n",
    "ax[1, 0].plot(X_train, line)\n",
    "\n",
    "ax[1, 1].set_title('The best fitted linear regression line of our model and the entire dataset (Xy) \\n'\n",
    "'X (independent variables / study_hours) \\n'\n",
    "'and y (dependent variable / percentage_scores')\n",
    "ax[1, 1].scatter(X, y)            \n",
    "ax[1, 1].plot(X_train, line)\n",
    "\n",
    "plt.show()"
   ]
  },
  {
   "cell_type": "markdown",
   "metadata": {},
   "source": [
    "### predicting the percentage_scores for X_test\n"
   ]
  },
  {
   "cell_type": "code",
   "execution_count": 21,
   "metadata": {
    "ExecuteTime": {
     "end_time": "2020-12-05T10:04:05.244093Z",
     "start_time": "2020-12-05T10:04:05.118257Z"
    }
   },
   "outputs": [],
   "source": [
    "pred = model.predict(X_test)"
   ]
  },
  {
   "cell_type": "markdown",
   "metadata": {},
   "source": [
    "### comparing Actual vs Predicted\n"
   ]
  },
  {
   "cell_type": "code",
   "execution_count": 22,
   "metadata": {
    "ExecuteTime": {
     "end_time": "2020-12-05T10:04:31.376055Z",
     "start_time": "2020-12-05T10:04:31.357082Z"
    }
   },
   "outputs": [
    {
     "data": {
      "text/html": [
       "<div>\n",
       "<style scoped>\n",
       "    .dataframe tbody tr th:only-of-type {\n",
       "        vertical-align: middle;\n",
       "    }\n",
       "\n",
       "    .dataframe tbody tr th {\n",
       "        vertical-align: top;\n",
       "    }\n",
       "\n",
       "    .dataframe thead th {\n",
       "        text-align: right;\n",
       "    }\n",
       "</style>\n",
       "<table border=\"1\" class=\"dataframe\">\n",
       "  <thead>\n",
       "    <tr style=\"text-align: right;\">\n",
       "      <th></th>\n",
       "      <th>test_studyhours</th>\n",
       "      <th>actual_percentscores</th>\n",
       "      <th>predicted_percentscores</th>\n",
       "    </tr>\n",
       "  </thead>\n",
       "  <tbody>\n",
       "    <tr>\n",
       "      <th>8</th>\n",
       "      <td>8.3</td>\n",
       "      <td>81.0</td>\n",
       "      <td>83.188141</td>\n",
       "    </tr>\n",
       "    <tr>\n",
       "      <th>16</th>\n",
       "      <td>2.5</td>\n",
       "      <td>30.0</td>\n",
       "      <td>27.032085</td>\n",
       "    </tr>\n",
       "    <tr>\n",
       "      <th>0</th>\n",
       "      <td>2.5</td>\n",
       "      <td>21.0</td>\n",
       "      <td>27.032085</td>\n",
       "    </tr>\n",
       "    <tr>\n",
       "      <th>23</th>\n",
       "      <td>6.9</td>\n",
       "      <td>76.0</td>\n",
       "      <td>69.633232</td>\n",
       "    </tr>\n",
       "    <tr>\n",
       "      <th>11</th>\n",
       "      <td>5.9</td>\n",
       "      <td>62.0</td>\n",
       "      <td>59.951153</td>\n",
       "    </tr>\n",
       "  </tbody>\n",
       "</table>\n",
       "</div>"
      ],
      "text/plain": [
       "    test_studyhours  actual_percentscores  predicted_percentscores\n",
       "8               8.3                  81.0                83.188141\n",
       "16              2.5                  30.0                27.032085\n",
       "0               2.5                  21.0                27.032085\n",
       "23              6.9                  76.0                69.633232\n",
       "11              5.9                  62.0                59.951153"
      ]
     },
     "execution_count": 22,
     "metadata": {},
     "output_type": "execute_result"
    }
   ],
   "source": [
    "predictiondata = pd.DataFrame({'test_studyhours': X_test['study_hours'], 'actual_percentscores': y_test, 'predicted_percentscores': pred})  \n",
    "predictiondata"
   ]
  },
  {
   "cell_type": "markdown",
   "metadata": {},
   "source": [
    "### r2_score (coefficient of determination) regression score function.\n",
    "### the coefficient of how well the values fit compared to the original values. \n"
   ]
  },
  {
   "cell_type": "code",
   "execution_count": 23,
   "metadata": {
    "ExecuteTime": {
     "end_time": "2020-12-05T10:05:22.927399Z",
     "start_time": "2020-12-05T10:05:22.918408Z"
    }
   },
   "outputs": [
    {
     "data": {
      "text/plain": [
       "0.9678055611214291"
      ]
     },
     "execution_count": 23,
     "metadata": {},
     "output_type": "execute_result"
    }
   ],
   "source": [
    "r2_score(y_test, pred) "
   ]
  },
  {
   "cell_type": "markdown",
   "metadata": {},
   "source": [
    "### evaluating the performance of the model"
   ]
  },
  {
   "cell_type": "code",
   "execution_count": 24,
   "metadata": {
    "ExecuteTime": {
     "end_time": "2020-12-05T10:05:49.459345Z",
     "start_time": "2020-12-05T10:05:49.450350Z"
    }
   },
   "outputs": [
    {
     "name": "stdout",
     "output_type": "stream",
     "text": [
      "MAE:\n",
      "3.920751\n",
      "MSE:\n",
      "18.943209\n",
      "RMSE:\n",
      "4.35238\n"
     ]
    }
   ],
   "source": [
    "#MAE\n",
    "print('MAE:')\n",
    "print(mean_absolute_error(y_test, pred), end='\\n')\n",
    "#MSE\n",
    "print('MSE:')\n",
    "print(mean_squared_error(y_test, pred), end='\\n')\n",
    "#RMSE\n",
    "print('RMSE:')\n",
    "print(np.sqrt(mean_squared_error(y_test, pred)))"
   ]
  },
  {
   "cell_type": "markdown",
   "metadata": {},
   "source": [
    "### what will be predicted score if a student studies for 9.25 hrs/day?"
   ]
  },
  {
   "cell_type": "code",
   "execution_count": 25,
   "metadata": {
    "ExecuteTime": {
     "end_time": "2020-12-05T10:10:11.240845Z",
     "start_time": "2020-12-05T10:10:11.174873Z"
    }
   },
   "outputs": [
    {
     "name": "stdout",
     "output_type": "stream",
     "text": [
      "No of Hours = 9.25\n",
      "Predicted Score = 92.38611388206482\n"
     ]
    }
   ],
   "source": [
    "hours = pd.DataFrame({'study_hours': [9.25]})\n",
    "unseenpred = model.predict(hours)\n",
    "print(\"No of Hours = {}\".format(hours['study_hours'][0]))\n",
    "print(\"Predicted Score = {}\".format(unseenpred[0]))"
   ]
  },
  {
   "cell_type": "code",
   "execution_count": null,
   "metadata": {},
   "outputs": [],
   "source": []
  }
 ],
 "metadata": {
  "kernelspec": {
   "display_name": "Python 3",
   "language": "python",
   "name": "python3"
  },
  "language_info": {
   "codemirror_mode": {
    "name": "ipython",
    "version": 3
   },
   "file_extension": ".py",
   "mimetype": "text/x-python",
   "name": "python",
   "nbconvert_exporter": "python",
   "pygments_lexer": "ipython3",
   "version": "3.7.3"
  }
 },
 "nbformat": 4,
 "nbformat_minor": 2
}
