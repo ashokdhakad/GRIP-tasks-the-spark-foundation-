{
 "cells": [
  {
   "cell_type": "markdown",
   "metadata": {},
   "source": [
    "# Name: Ashok Vaktariya\n",
    "\n",
    "GitHub: https://github.com/ashokdhakad\n",
    "\n",
    "Kaggle: https://www.kaggle.com/ashokvaktariya\n",
    "\n",
    "My Portfolio Site: https://ashokvaktariya.me/\n"
   ]
  },
  {
   "cell_type": "markdown",
   "metadata": {},
   "source": [
    "# The Sparks Foundation\n",
    "# GRIP: Data Science & Business Analytics Intern\n",
    "# Prediction using Unsupervised ML \n",
    "# Task 2\n",
    "\n",
    "From the given 'Iris' dataset,predict the optimum number of clusters and represent it visually.\n",
    "\n"
   ]
  },
  {
   "cell_type": "markdown",
   "metadata": {},
   "source": [
    "### importing Libraries"
   ]
  },
  {
   "cell_type": "code",
   "execution_count": 1,
   "metadata": {
    "ExecuteTime": {
     "end_time": "2020-12-12T12:46:33.177819Z",
     "start_time": "2020-12-12T12:46:10.208820Z"
    }
   },
   "outputs": [],
   "source": [
    "import pandas as pd #IMPORTING PANDAS \n",
    "import numpy as np #IMPORTING NUMPY \n",
    "import matplotlib.pyplot as plt #IMPORTING VISUALIZATION LIBRARY \n",
    "import seaborn as sns #IMPORTING VISUALIZATION LIBRARY \n",
    "from sklearn.model_selection import train_test_split #TEST TRAIN SPLIT\n",
    "from sklearn.cluster import KMeans #IMPORTING KMEANS"
   ]
  },
  {
   "cell_type": "markdown",
   "metadata": {},
   "source": [
    "### Reading csv file and assigning to dataset variables"
   ]
  },
  {
   "cell_type": "code",
   "execution_count": 2,
   "metadata": {
    "ExecuteTime": {
     "end_time": "2020-12-12T12:49:08.281683Z",
     "start_time": "2020-12-12T12:49:07.984271Z"
    }
   },
   "outputs": [],
   "source": [
    "iris=pd.read_csv('Iris.csv')\n"
   ]
  },
  {
   "cell_type": "code",
   "execution_count": null,
   "metadata": {},
   "outputs": [],
   "source": []
  }
 ],
 "metadata": {
  "kernelspec": {
   "display_name": "Python 3",
   "language": "python",
   "name": "python3"
  },
  "language_info": {
   "codemirror_mode": {
    "name": "ipython",
    "version": 3
   },
   "file_extension": ".py",
   "mimetype": "text/x-python",
   "name": "python",
   "nbconvert_exporter": "python",
   "pygments_lexer": "ipython3",
   "version": "3.7.3"
  }
 },
 "nbformat": 4,
 "nbformat_minor": 2
}
